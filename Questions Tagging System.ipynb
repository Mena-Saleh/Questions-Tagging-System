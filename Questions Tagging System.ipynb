{
 "cells": [
  {
   "cell_type": "code",
   "execution_count": 34,
   "metadata": {},
   "outputs": [],
   "source": [
    "import pandas as pd\n",
    "import numpy as np\n",
    "import matplotlib.pyplot as plt\n",
    "import warnings\n",
    "import time\n",
    "import re\n",
    "from bs4 import BeautifulSoup\n",
    "import nltk\n",
    "import string\n",
    "from nltk.stem.wordnet import WordNetLemmatizer\n",
    "from nltk.corpus import stopwords\n",
    "from string import punctuation\n",
    "from nltk.tokenize import word_tokenize\n",
    "from nltk import pos_tag\n",
    "from sklearn.preprocessing import MultiLabelBinarizer\n",
    "from sklearn.model_selection import train_test_split\n",
    "from sklearn.metrics import hamming_loss, accuracy_score\n",
    "from scipy.sparse import hstack\n",
    "from sklearn.metrics import jaccard_score\n",
    "from nltk.util import ngrams\n",
    "import matplotlib.pyplot as plt\n",
    "import tensorflow as tf\n",
    "from sklearn.metrics import jaccard_score, precision_score, recall_score, f1_score, classification_report, multilabel_confusion_matrix\n",
    "from joblib import dump, load\n",
    "from keras.preprocessing.text import Tokenizer\n",
    "from keras_preprocessing.sequence import pad_sequences\n",
    "import tensorflow as tf\n",
    "from keras.layers import Input, Embedding, Dense, Dropout, LayerNormalization, MultiHeadAttention, GlobalAveragePooling1D, Concatenate\n",
    "from keras.models import Model\n",
    "from keras_nlp.layers import SinePositionEncoding\n",
    "from keras.optimizers import Adam\n",
    "from keras.callbacks import ModelCheckpoint, EarlyStopping\n",
    "from keras.models import load_model\n"
   ]
  },
  {
   "cell_type": "markdown",
   "metadata": {},
   "source": [
    "# Data Cleaning and Preparation"
   ]
  },
  {
   "cell_type": "code",
   "execution_count": 41,
   "metadata": {},
   "outputs": [],
   "source": [
    "df_questions = pd.read_csv(\"Data/Questions.csv\", encoding=\"ISO-8859-1\")\n",
    "df_tags = pd.read_csv(\"Data/Tags.csv\", encoding=\"ISO-8859-1\")"
   ]
  },
  {
   "cell_type": "code",
   "execution_count": 42,
   "metadata": {},
   "outputs": [
    {
     "data": {
      "text/html": [
       "<div>\n",
       "<style scoped>\n",
       "    .dataframe tbody tr th:only-of-type {\n",
       "        vertical-align: middle;\n",
       "    }\n",
       "\n",
       "    .dataframe tbody tr th {\n",
       "        vertical-align: top;\n",
       "    }\n",
       "\n",
       "    .dataframe thead th {\n",
       "        text-align: right;\n",
       "    }\n",
       "</style>\n",
       "<table border=\"1\" class=\"dataframe\">\n",
       "  <thead>\n",
       "    <tr style=\"text-align: right;\">\n",
       "      <th></th>\n",
       "      <th>Id</th>\n",
       "      <th>OwnerUserId</th>\n",
       "      <th>CreationDate</th>\n",
       "      <th>ClosedDate</th>\n",
       "      <th>Score</th>\n",
       "      <th>Title</th>\n",
       "      <th>Body</th>\n",
       "    </tr>\n",
       "  </thead>\n",
       "  <tbody>\n",
       "    <tr>\n",
       "      <th>0</th>\n",
       "      <td>80</td>\n",
       "      <td>26.00</td>\n",
       "      <td>2008-08-01T13:57:07Z</td>\n",
       "      <td>NaN</td>\n",
       "      <td>26</td>\n",
       "      <td>SQLStatement.execute() - multiple queries in o...</td>\n",
       "      <td>&lt;p&gt;I've written a database generation script i...</td>\n",
       "    </tr>\n",
       "    <tr>\n",
       "      <th>1</th>\n",
       "      <td>90</td>\n",
       "      <td>58.00</td>\n",
       "      <td>2008-08-01T14:41:24Z</td>\n",
       "      <td>2012-12-26T03:45:49Z</td>\n",
       "      <td>144</td>\n",
       "      <td>Good branching and merging tutorials for Torto...</td>\n",
       "      <td>&lt;p&gt;Are there any really good tutorials explain...</td>\n",
       "    </tr>\n",
       "    <tr>\n",
       "      <th>2</th>\n",
       "      <td>120</td>\n",
       "      <td>83.00</td>\n",
       "      <td>2008-08-01T15:50:08Z</td>\n",
       "      <td>NaN</td>\n",
       "      <td>21</td>\n",
       "      <td>ASP.NET Site Maps</td>\n",
       "      <td>&lt;p&gt;Has anyone got experience creating &lt;strong&gt;...</td>\n",
       "    </tr>\n",
       "    <tr>\n",
       "      <th>3</th>\n",
       "      <td>180</td>\n",
       "      <td>2089740.00</td>\n",
       "      <td>2008-08-01T18:42:19Z</td>\n",
       "      <td>NaN</td>\n",
       "      <td>53</td>\n",
       "      <td>Function for creating color wheels</td>\n",
       "      <td>&lt;p&gt;This is something I've pseudo-solved many t...</td>\n",
       "    </tr>\n",
       "    <tr>\n",
       "      <th>4</th>\n",
       "      <td>260</td>\n",
       "      <td>91.00</td>\n",
       "      <td>2008-08-01T23:22:08Z</td>\n",
       "      <td>NaN</td>\n",
       "      <td>49</td>\n",
       "      <td>Adding scripting functionality to .NET applica...</td>\n",
       "      <td>&lt;p&gt;I have a little game written in C#. It uses...</td>\n",
       "    </tr>\n",
       "  </tbody>\n",
       "</table>\n",
       "</div>"
      ],
      "text/plain": [
       "    Id  OwnerUserId          CreationDate            ClosedDate  Score  \\\n",
       "0   80        26.00  2008-08-01T13:57:07Z                   NaN     26   \n",
       "1   90        58.00  2008-08-01T14:41:24Z  2012-12-26T03:45:49Z    144   \n",
       "2  120        83.00  2008-08-01T15:50:08Z                   NaN     21   \n",
       "3  180   2089740.00  2008-08-01T18:42:19Z                   NaN     53   \n",
       "4  260        91.00  2008-08-01T23:22:08Z                   NaN     49   \n",
       "\n",
       "                                               Title  \\\n",
       "0  SQLStatement.execute() - multiple queries in o...   \n",
       "1  Good branching and merging tutorials for Torto...   \n",
       "2                                  ASP.NET Site Maps   \n",
       "3                 Function for creating color wheels   \n",
       "4  Adding scripting functionality to .NET applica...   \n",
       "\n",
       "                                                Body  \n",
       "0  <p>I've written a database generation script i...  \n",
       "1  <p>Are there any really good tutorials explain...  \n",
       "2  <p>Has anyone got experience creating <strong>...  \n",
       "3  <p>This is something I've pseudo-solved many t...  \n",
       "4  <p>I have a little game written in C#. It uses...  "
      ]
     },
     "execution_count": 42,
     "metadata": {},
     "output_type": "execute_result"
    }
   ],
   "source": [
    "df_questions.head()"
   ]
  },
  {
   "cell_type": "code",
   "execution_count": 43,
   "metadata": {},
   "outputs": [],
   "source": [
    "# Dropping columns that won't be necessary for our task\n",
    "df_questions.drop(columns=['OwnerUserId', 'CreationDate', 'ClosedDate'], inplace=True)"
   ]
  },
  {
   "cell_type": "code",
   "execution_count": 44,
   "metadata": {},
   "outputs": [
    {
     "name": "stdout",
     "output_type": "stream",
     "text": [
      "<class 'pandas.core.frame.DataFrame'>\n",
      "RangeIndex: 1264216 entries, 0 to 1264215\n",
      "Data columns (total 4 columns):\n",
      " #   Column  Non-Null Count    Dtype \n",
      "---  ------  --------------    ----- \n",
      " 0   Id      1264216 non-null  int64 \n",
      " 1   Score   1264216 non-null  int64 \n",
      " 2   Title   1264216 non-null  object\n",
      " 3   Body    1264216 non-null  object\n",
      "dtypes: int64(2), object(2)\n",
      "memory usage: 38.6+ MB\n"
     ]
    }
   ],
   "source": [
    "df_questions.info()"
   ]
  },
  {
   "cell_type": "code",
   "execution_count": 45,
   "metadata": {},
   "outputs": [
    {
     "data": {
      "text/html": [
       "<div>\n",
       "<style scoped>\n",
       "    .dataframe tbody tr th:only-of-type {\n",
       "        vertical-align: middle;\n",
       "    }\n",
       "\n",
       "    .dataframe tbody tr th {\n",
       "        vertical-align: top;\n",
       "    }\n",
       "\n",
       "    .dataframe thead th {\n",
       "        text-align: right;\n",
       "    }\n",
       "</style>\n",
       "<table border=\"1\" class=\"dataframe\">\n",
       "  <thead>\n",
       "    <tr style=\"text-align: right;\">\n",
       "      <th></th>\n",
       "      <th>Id</th>\n",
       "      <th>Tag</th>\n",
       "    </tr>\n",
       "  </thead>\n",
       "  <tbody>\n",
       "    <tr>\n",
       "      <th>0</th>\n",
       "      <td>80</td>\n",
       "      <td>flex</td>\n",
       "    </tr>\n",
       "    <tr>\n",
       "      <th>1</th>\n",
       "      <td>80</td>\n",
       "      <td>actionscript-3</td>\n",
       "    </tr>\n",
       "    <tr>\n",
       "      <th>2</th>\n",
       "      <td>80</td>\n",
       "      <td>air</td>\n",
       "    </tr>\n",
       "    <tr>\n",
       "      <th>3</th>\n",
       "      <td>90</td>\n",
       "      <td>svn</td>\n",
       "    </tr>\n",
       "    <tr>\n",
       "      <th>4</th>\n",
       "      <td>90</td>\n",
       "      <td>tortoisesvn</td>\n",
       "    </tr>\n",
       "  </tbody>\n",
       "</table>\n",
       "</div>"
      ],
      "text/plain": [
       "   Id             Tag\n",
       "0  80            flex\n",
       "1  80  actionscript-3\n",
       "2  80             air\n",
       "3  90             svn\n",
       "4  90     tortoisesvn"
      ]
     },
     "execution_count": 45,
     "metadata": {},
     "output_type": "execute_result"
    }
   ],
   "source": [
    "df_tags.head()"
   ]
  },
  {
   "cell_type": "code",
   "execution_count": 46,
   "metadata": {},
   "outputs": [
    {
     "name": "stdout",
     "output_type": "stream",
     "text": [
      "<class 'pandas.core.frame.DataFrame'>\n",
      "RangeIndex: 3750994 entries, 0 to 3750993\n",
      "Data columns (total 2 columns):\n",
      " #   Column  Dtype \n",
      "---  ------  ----- \n",
      " 0   Id      int64 \n",
      " 1   Tag     object\n",
      "dtypes: int64(1), object(1)\n",
      "memory usage: 57.2+ MB\n"
     ]
    }
   ],
   "source": [
    "df_tags.info()"
   ]
  },
  {
   "cell_type": "code",
   "execution_count": 47,
   "metadata": {},
   "outputs": [
    {
     "data": {
      "text/html": [
       "<div>\n",
       "<style scoped>\n",
       "    .dataframe tbody tr th:only-of-type {\n",
       "        vertical-align: middle;\n",
       "    }\n",
       "\n",
       "    .dataframe tbody tr th {\n",
       "        vertical-align: top;\n",
       "    }\n",
       "\n",
       "    .dataframe thead th {\n",
       "        text-align: right;\n",
       "    }\n",
       "</style>\n",
       "<table border=\"1\" class=\"dataframe\">\n",
       "  <thead>\n",
       "    <tr style=\"text-align: right;\">\n",
       "      <th></th>\n",
       "      <th>Id</th>\n",
       "      <th>Tag</th>\n",
       "    </tr>\n",
       "  </thead>\n",
       "  <tbody>\n",
       "    <tr>\n",
       "      <th>0</th>\n",
       "      <td>80</td>\n",
       "      <td>flex actionscript-3 air</td>\n",
       "    </tr>\n",
       "    <tr>\n",
       "      <th>1</th>\n",
       "      <td>90</td>\n",
       "      <td>svn tortoisesvn branch branching-and-merging</td>\n",
       "    </tr>\n",
       "    <tr>\n",
       "      <th>2</th>\n",
       "      <td>120</td>\n",
       "      <td>sql asp.net sitemap</td>\n",
       "    </tr>\n",
       "    <tr>\n",
       "      <th>3</th>\n",
       "      <td>180</td>\n",
       "      <td>algorithm language-agnostic colors color-space</td>\n",
       "    </tr>\n",
       "    <tr>\n",
       "      <th>4</th>\n",
       "      <td>260</td>\n",
       "      <td>c# .net scripting compiler-construction</td>\n",
       "    </tr>\n",
       "    <tr>\n",
       "      <th>...</th>\n",
       "      <td>...</td>\n",
       "      <td>...</td>\n",
       "    </tr>\n",
       "    <tr>\n",
       "      <th>1264211</th>\n",
       "      <td>40143210</td>\n",
       "      <td>php .htaccess</td>\n",
       "    </tr>\n",
       "    <tr>\n",
       "      <th>1264212</th>\n",
       "      <td>40143300</td>\n",
       "      <td>google-bigquery</td>\n",
       "    </tr>\n",
       "    <tr>\n",
       "      <th>1264213</th>\n",
       "      <td>40143340</td>\n",
       "      <td>android android-studio</td>\n",
       "    </tr>\n",
       "    <tr>\n",
       "      <th>1264214</th>\n",
       "      <td>40143360</td>\n",
       "      <td>javascript vue.js</td>\n",
       "    </tr>\n",
       "    <tr>\n",
       "      <th>1264215</th>\n",
       "      <td>40143380</td>\n",
       "      <td>npm mocha babel</td>\n",
       "    </tr>\n",
       "  </tbody>\n",
       "</table>\n",
       "<p>1264216 rows × 2 columns</p>\n",
       "</div>"
      ],
      "text/plain": [
       "               Id                                             Tag\n",
       "0              80                         flex actionscript-3 air\n",
       "1              90    svn tortoisesvn branch branching-and-merging\n",
       "2             120                             sql asp.net sitemap\n",
       "3             180  algorithm language-agnostic colors color-space\n",
       "4             260         c# .net scripting compiler-construction\n",
       "...           ...                                             ...\n",
       "1264211  40143210                                   php .htaccess\n",
       "1264212  40143300                                 google-bigquery\n",
       "1264213  40143340                          android android-studio\n",
       "1264214  40143360                               javascript vue.js\n",
       "1264215  40143380                                 npm mocha babel\n",
       "\n",
       "[1264216 rows x 2 columns]"
      ]
     },
     "execution_count": 47,
     "metadata": {},
     "output_type": "execute_result"
    }
   ],
   "source": [
    "# Grouping the tags by id\n",
    "df_tags['Tag'] = df_tags['Tag'].astype(str)\n",
    "grouped_tags = df_tags.groupby(\"Id\")['Tag'].apply(lambda tag: ' '.join(tag))\n",
    "grouped_tags.reset_index()"
   ]
  },
  {
   "cell_type": "code",
   "execution_count": 48,
   "metadata": {},
   "outputs": [
    {
     "data": {
      "text/html": [
       "<div>\n",
       "<style scoped>\n",
       "    .dataframe tbody tr th:only-of-type {\n",
       "        vertical-align: middle;\n",
       "    }\n",
       "\n",
       "    .dataframe tbody tr th {\n",
       "        vertical-align: top;\n",
       "    }\n",
       "\n",
       "    .dataframe thead th {\n",
       "        text-align: right;\n",
       "    }\n",
       "</style>\n",
       "<table border=\"1\" class=\"dataframe\">\n",
       "  <thead>\n",
       "    <tr style=\"text-align: right;\">\n",
       "      <th></th>\n",
       "      <th>Id</th>\n",
       "      <th>Tags</th>\n",
       "    </tr>\n",
       "  </thead>\n",
       "  <tbody>\n",
       "    <tr>\n",
       "      <th>0</th>\n",
       "      <td>80</td>\n",
       "      <td>flex actionscript-3 air</td>\n",
       "    </tr>\n",
       "    <tr>\n",
       "      <th>1</th>\n",
       "      <td>90</td>\n",
       "      <td>svn tortoisesvn branch branching-and-merging</td>\n",
       "    </tr>\n",
       "    <tr>\n",
       "      <th>2</th>\n",
       "      <td>120</td>\n",
       "      <td>sql asp.net sitemap</td>\n",
       "    </tr>\n",
       "    <tr>\n",
       "      <th>3</th>\n",
       "      <td>180</td>\n",
       "      <td>algorithm language-agnostic colors color-space</td>\n",
       "    </tr>\n",
       "    <tr>\n",
       "      <th>4</th>\n",
       "      <td>260</td>\n",
       "      <td>c# .net scripting compiler-construction</td>\n",
       "    </tr>\n",
       "  </tbody>\n",
       "</table>\n",
       "</div>"
      ],
      "text/plain": [
       "    Id                                            Tags\n",
       "0   80                         flex actionscript-3 air\n",
       "1   90    svn tortoisesvn branch branching-and-merging\n",
       "2  120                             sql asp.net sitemap\n",
       "3  180  algorithm language-agnostic colors color-space\n",
       "4  260         c# .net scripting compiler-construction"
      ]
     },
     "execution_count": 48,
     "metadata": {},
     "output_type": "execute_result"
    }
   ],
   "source": [
    "grouped_tags = pd.DataFrame({'Id':grouped_tags.index, 'Tags':grouped_tags.values})\n",
    "grouped_tags.head()"
   ]
  },
  {
   "cell_type": "code",
   "execution_count": 49,
   "metadata": {},
   "outputs": [
    {
     "data": {
      "text/html": [
       "<div>\n",
       "<style scoped>\n",
       "    .dataframe tbody tr th:only-of-type {\n",
       "        vertical-align: middle;\n",
       "    }\n",
       "\n",
       "    .dataframe tbody tr th {\n",
       "        vertical-align: top;\n",
       "    }\n",
       "\n",
       "    .dataframe thead th {\n",
       "        text-align: right;\n",
       "    }\n",
       "</style>\n",
       "<table border=\"1\" class=\"dataframe\">\n",
       "  <thead>\n",
       "    <tr style=\"text-align: right;\">\n",
       "      <th></th>\n",
       "      <th>Id</th>\n",
       "      <th>Score</th>\n",
       "      <th>Title</th>\n",
       "      <th>Body</th>\n",
       "      <th>Tags</th>\n",
       "    </tr>\n",
       "  </thead>\n",
       "  <tbody>\n",
       "    <tr>\n",
       "      <th>0</th>\n",
       "      <td>80</td>\n",
       "      <td>26</td>\n",
       "      <td>SQLStatement.execute() - multiple queries in o...</td>\n",
       "      <td>&lt;p&gt;I've written a database generation script i...</td>\n",
       "      <td>flex actionscript-3 air</td>\n",
       "    </tr>\n",
       "    <tr>\n",
       "      <th>1</th>\n",
       "      <td>90</td>\n",
       "      <td>144</td>\n",
       "      <td>Good branching and merging tutorials for Torto...</td>\n",
       "      <td>&lt;p&gt;Are there any really good tutorials explain...</td>\n",
       "      <td>svn tortoisesvn branch branching-and-merging</td>\n",
       "    </tr>\n",
       "    <tr>\n",
       "      <th>2</th>\n",
       "      <td>120</td>\n",
       "      <td>21</td>\n",
       "      <td>ASP.NET Site Maps</td>\n",
       "      <td>&lt;p&gt;Has anyone got experience creating &lt;strong&gt;...</td>\n",
       "      <td>sql asp.net sitemap</td>\n",
       "    </tr>\n",
       "    <tr>\n",
       "      <th>3</th>\n",
       "      <td>180</td>\n",
       "      <td>53</td>\n",
       "      <td>Function for creating color wheels</td>\n",
       "      <td>&lt;p&gt;This is something I've pseudo-solved many t...</td>\n",
       "      <td>algorithm language-agnostic colors color-space</td>\n",
       "    </tr>\n",
       "    <tr>\n",
       "      <th>4</th>\n",
       "      <td>260</td>\n",
       "      <td>49</td>\n",
       "      <td>Adding scripting functionality to .NET applica...</td>\n",
       "      <td>&lt;p&gt;I have a little game written in C#. It uses...</td>\n",
       "      <td>c# .net scripting compiler-construction</td>\n",
       "    </tr>\n",
       "  </tbody>\n",
       "</table>\n",
       "</div>"
      ],
      "text/plain": [
       "    Id  Score                                              Title  \\\n",
       "0   80     26  SQLStatement.execute() - multiple queries in o...   \n",
       "1   90    144  Good branching and merging tutorials for Torto...   \n",
       "2  120     21                                  ASP.NET Site Maps   \n",
       "3  180     53                 Function for creating color wheels   \n",
       "4  260     49  Adding scripting functionality to .NET applica...   \n",
       "\n",
       "                                                Body  \\\n",
       "0  <p>I've written a database generation script i...   \n",
       "1  <p>Are there any really good tutorials explain...   \n",
       "2  <p>Has anyone got experience creating <strong>...   \n",
       "3  <p>This is something I've pseudo-solved many t...   \n",
       "4  <p>I have a little game written in C#. It uses...   \n",
       "\n",
       "                                             Tags  \n",
       "0                         flex actionscript-3 air  \n",
       "1    svn tortoisesvn branch branching-and-merging  \n",
       "2                             sql asp.net sitemap  \n",
       "3  algorithm language-agnostic colors color-space  \n",
       "4         c# .net scripting compiler-construction  "
      ]
     },
     "execution_count": 49,
     "metadata": {},
     "output_type": "execute_result"
    }
   ],
   "source": [
    "# Finally, mapping the tags to the questions by id\n",
    "df = df_questions.merge(grouped_tags, on = \"Id\")\n",
    "df.head()"
   ]
  },
  {
   "cell_type": "code",
   "execution_count": 50,
   "metadata": {},
   "outputs": [
    {
     "data": {
      "text/plain": [
       "count   1264216.00\n",
       "mean          1.78\n",
       "std          13.66\n",
       "min         -73.00\n",
       "25%           0.00\n",
       "50%           0.00\n",
       "75%           1.00\n",
       "max        5190.00\n",
       "Name: Score, dtype: float64"
      ]
     },
     "execution_count": 50,
     "metadata": {},
     "output_type": "execute_result"
    }
   ],
   "source": [
    "# Checking the statistics of the score column to determine a good threshold to filter only high scores for better learning later on\n",
    "pd.set_option('display.float_format', '{:.2f}'.format)\n",
    "df['Score'].describe()"
   ]
  },
  {
   "cell_type": "code",
   "execution_count": 51,
   "metadata": {},
   "outputs": [
    {
     "name": "stdout",
     "output_type": "stream",
     "text": [
      "Shape before filtering: (1264216, 5)\n",
      "Shape after filtering: (72950, 5)\n"
     ]
    }
   ],
   "source": [
    "# Filter based on a threshold for scores\n",
    "print(f'Shape before filtering: {df.shape}')\n",
    "\n",
    "score_threshold = 2\n",
    "mask = df['Score'] >= score_threshold\n",
    "df = df[mask]\n",
    "\n",
    "print(f'Shape after filtering: {df.shape}')\n"
   ]
  },
  {
   "cell_type": "code",
   "execution_count": 52,
   "metadata": {},
   "outputs": [
    {
     "data": {
      "text/html": [
       "<div>\n",
       "<style scoped>\n",
       "    .dataframe tbody tr th:only-of-type {\n",
       "        vertical-align: middle;\n",
       "    }\n",
       "\n",
       "    .dataframe tbody tr th {\n",
       "        vertical-align: top;\n",
       "    }\n",
       "\n",
       "    .dataframe thead th {\n",
       "        text-align: right;\n",
       "    }\n",
       "</style>\n",
       "<table border=\"1\" class=\"dataframe\">\n",
       "  <thead>\n",
       "    <tr style=\"text-align: right;\">\n",
       "      <th></th>\n",
       "      <th>Id</th>\n",
       "      <th>Score</th>\n",
       "      <th>Title</th>\n",
       "      <th>Body</th>\n",
       "      <th>Tags</th>\n",
       "    </tr>\n",
       "  </thead>\n",
       "  <tbody>\n",
       "    <tr>\n",
       "      <th>114540</th>\n",
       "      <td>4697010</td>\n",
       "      <td>7</td>\n",
       "      <td>nginx: auth_basic and php</td>\n",
       "      <td>&lt;p&gt;i want to protect a folder of my website wi...</td>\n",
       "      <td>php authentication nginx</td>\n",
       "    </tr>\n",
       "    <tr>\n",
       "      <th>43617</th>\n",
       "      <td>2122820</td>\n",
       "      <td>9</td>\n",
       "      <td>Is it better to handle friendly/clean/pretty U...</td>\n",
       "      <td>&lt;p&gt;I'm developing my first decent-sized PHP si...</td>\n",
       "      <td>php apache mod-rewrite url-rewriting friendly-url</td>\n",
       "    </tr>\n",
       "    <tr>\n",
       "      <th>239842</th>\n",
       "      <td>8951810</td>\n",
       "      <td>99</td>\n",
       "      <td>how to parse json data with jquery / javascript?</td>\n",
       "      <td>&lt;p&gt;I have a ajax call that returns some json l...</td>\n",
       "      <td>jquery ajax json parsing</td>\n",
       "    </tr>\n",
       "    <tr>\n",
       "      <th>453877</th>\n",
       "      <td>15913150</td>\n",
       "      <td>37</td>\n",
       "      <td>What is the \"proper\" way to cast Hibernate Que...</td>\n",
       "      <td>&lt;p&gt;I'm a newbie with Hibernate, and I'm writin...</td>\n",
       "      <td>java hibernate generics</td>\n",
       "    </tr>\n",
       "    <tr>\n",
       "      <th>656878</th>\n",
       "      <td>22503180</td>\n",
       "      <td>10</td>\n",
       "      <td>What is the purpose of the methods in System.R...</td>\n",
       "      <td>&lt;p&gt;Since .NET 4.5 (2012), some new extension m...</td>\n",
       "      <td>c# .net reflection .net-4.5 bcl</td>\n",
       "    </tr>\n",
       "  </tbody>\n",
       "</table>\n",
       "</div>"
      ],
      "text/plain": [
       "              Id  Score                                              Title  \\\n",
       "114540   4697010      7                          nginx: auth_basic and php   \n",
       "43617    2122820      9  Is it better to handle friendly/clean/pretty U...   \n",
       "239842   8951810     99   how to parse json data with jquery / javascript?   \n",
       "453877  15913150     37  What is the \"proper\" way to cast Hibernate Que...   \n",
       "656878  22503180     10  What is the purpose of the methods in System.R...   \n",
       "\n",
       "                                                     Body  \\\n",
       "114540  <p>i want to protect a folder of my website wi...   \n",
       "43617   <p>I'm developing my first decent-sized PHP si...   \n",
       "239842  <p>I have a ajax call that returns some json l...   \n",
       "453877  <p>I'm a newbie with Hibernate, and I'm writin...   \n",
       "656878  <p>Since .NET 4.5 (2012), some new extension m...   \n",
       "\n",
       "                                                     Tags  \n",
       "114540                           php authentication nginx  \n",
       "43617   php apache mod-rewrite url-rewriting friendly-url  \n",
       "239842                           jquery ajax json parsing  \n",
       "453877                            java hibernate generics  \n",
       "656878                    c# .net reflection .net-4.5 bcl  "
      ]
     },
     "execution_count": 52,
     "metadata": {},
     "output_type": "execute_result"
    }
   ],
   "source": [
    "df.sample(5)"
   ]
  },
  {
   "cell_type": "code",
   "execution_count": 53,
   "metadata": {},
   "outputs": [],
   "source": [
    "# Removing columns that are no longer required and removing duplicates if any\n",
    "df.drop(columns= ['Id', 'Score'], inplace=True)\n",
    "df.drop_duplicates(inplace = True)"
   ]
  },
  {
   "cell_type": "code",
   "execution_count": 54,
   "metadata": {},
   "outputs": [
    {
     "data": {
      "text/html": [
       "<div>\n",
       "<style scoped>\n",
       "    .dataframe tbody tr th:only-of-type {\n",
       "        vertical-align: middle;\n",
       "    }\n",
       "\n",
       "    .dataframe tbody tr th {\n",
       "        vertical-align: top;\n",
       "    }\n",
       "\n",
       "    .dataframe thead th {\n",
       "        text-align: right;\n",
       "    }\n",
       "</style>\n",
       "<table border=\"1\" class=\"dataframe\">\n",
       "  <thead>\n",
       "    <tr style=\"text-align: right;\">\n",
       "      <th></th>\n",
       "      <th>Title</th>\n",
       "      <th>Body</th>\n",
       "      <th>Tags</th>\n",
       "    </tr>\n",
       "  </thead>\n",
       "  <tbody>\n",
       "    <tr>\n",
       "      <th>0</th>\n",
       "      <td>SQLStatement.execute() - multiple queries in o...</td>\n",
       "      <td>&lt;p&gt;I've written a database generation script i...</td>\n",
       "      <td>flex actionscript-3 air</td>\n",
       "    </tr>\n",
       "    <tr>\n",
       "      <th>1</th>\n",
       "      <td>Good branching and merging tutorials for Torto...</td>\n",
       "      <td>&lt;p&gt;Are there any really good tutorials explain...</td>\n",
       "      <td>svn tortoisesvn branch branching-and-merging</td>\n",
       "    </tr>\n",
       "    <tr>\n",
       "      <th>2</th>\n",
       "      <td>ASP.NET Site Maps</td>\n",
       "      <td>&lt;p&gt;Has anyone got experience creating &lt;strong&gt;...</td>\n",
       "      <td>sql asp.net sitemap</td>\n",
       "    </tr>\n",
       "    <tr>\n",
       "      <th>3</th>\n",
       "      <td>Function for creating color wheels</td>\n",
       "      <td>&lt;p&gt;This is something I've pseudo-solved many t...</td>\n",
       "      <td>algorithm language-agnostic colors color-space</td>\n",
       "    </tr>\n",
       "    <tr>\n",
       "      <th>4</th>\n",
       "      <td>Adding scripting functionality to .NET applica...</td>\n",
       "      <td>&lt;p&gt;I have a little game written in C#. It uses...</td>\n",
       "      <td>c# .net scripting compiler-construction</td>\n",
       "    </tr>\n",
       "  </tbody>\n",
       "</table>\n",
       "</div>"
      ],
      "text/plain": [
       "                                               Title  \\\n",
       "0  SQLStatement.execute() - multiple queries in o...   \n",
       "1  Good branching and merging tutorials for Torto...   \n",
       "2                                  ASP.NET Site Maps   \n",
       "3                 Function for creating color wheels   \n",
       "4  Adding scripting functionality to .NET applica...   \n",
       "\n",
       "                                                Body  \\\n",
       "0  <p>I've written a database generation script i...   \n",
       "1  <p>Are there any really good tutorials explain...   \n",
       "2  <p>Has anyone got experience creating <strong>...   \n",
       "3  <p>This is something I've pseudo-solved many t...   \n",
       "4  <p>I have a little game written in C#. It uses...   \n",
       "\n",
       "                                             Tags  \n",
       "0                         flex actionscript-3 air  \n",
       "1    svn tortoisesvn branch branching-and-merging  \n",
       "2                             sql asp.net sitemap  \n",
       "3  algorithm language-agnostic colors color-space  \n",
       "4         c# .net scripting compiler-construction  "
      ]
     },
     "execution_count": 54,
     "metadata": {},
     "output_type": "execute_result"
    }
   ],
   "source": [
    "df.head()"
   ]
  },
  {
   "cell_type": "code",
   "execution_count": 55,
   "metadata": {},
   "outputs": [
    {
     "data": {
      "text/plain": [
       "(72950, 3)"
      ]
     },
     "execution_count": 55,
     "metadata": {},
     "output_type": "execute_result"
    }
   ],
   "source": [
    "df.shape"
   ]
  },
  {
   "cell_type": "code",
   "execution_count": 56,
   "metadata": {},
   "outputs": [
    {
     "name": "stdout",
     "output_type": "stream",
     "text": [
      "Total tags count: 224129\n",
      "Unique tags count: 14883\n"
     ]
    }
   ],
   "source": [
    "# Getting all unique tags in the data\n",
    "df['Tags'] = df['Tags'].apply(lambda tag: tag.split())\n",
    "\n",
    "# All the tags\n",
    "all_tags = [item for sublist in df['Tags'].values for item in sublist]\n",
    "print(f'Total tags count: {len(all_tags)}')\n",
    "\n",
    "# Unique Tags\n",
    "unique_tags = list(set(all_tags))\n",
    "print(f'Unique tags count: {len(unique_tags)}')"
   ]
  },
  {
   "cell_type": "code",
   "execution_count": 57,
   "metadata": {},
   "outputs": [
    {
     "data": {
      "text/plain": [
       "FreqDist({'c#': 6907, 'java': 6862, 'javascript': 5560, 'android': 5052, 'python': 4442, 'c++': 4369, 'php': 3024, 'jquery': 2770, '.net': 2705, 'ios': 2685, ...})"
      ]
     },
     "execution_count": 57,
     "metadata": {},
     "output_type": "execute_result"
    }
   ],
   "source": [
    "# Getting the frequency distribution of all tags\n",
    "tags_frequencies = nltk.FreqDist(all_tags)\n",
    "tags_frequencies"
   ]
  },
  {
   "cell_type": "code",
   "execution_count": 58,
   "metadata": {},
   "outputs": [
    {
     "name": "stdout",
     "output_type": "stream",
     "text": [
      "The top 100 tags are ['c#', 'java', 'javascript', 'android', 'python', 'c++', 'php', 'jquery', '.net', 'ios', 'html', 'css', 'c', 'iphone', 'objective-c', 'ruby-on-rails', 'sql', 'asp.net', 'mysql', 'ruby', 'r', 'git', 'asp.net-mvc', 'linux', 'sql-server', 'node.js', 'angularjs', 'django', 'performance', 'algorithm', 'string', 'xcode', 'arrays', 'wpf', 'eclipse', 'haskell', 'windows', 'scala', 'multithreading', 'json', 'c++11', 'regex', 'visual-studio', 'html5', 'osx', 'swift', 'database', 'unit-testing', 'spring', 'xml', 'bash', 'ajax', 'delphi', 'cocoa-touch', 'ruby-on-rails-3', 'visual-studio-2010', 'linq', 'debugging', 'generics', 'perl', 'entity-framework', 'mongodb', 'winforms', 'cocoa', 'security', 'postgresql', 'css3', 'templates', 'twitter-bootstrap', 'shell', 'list', 'google-chrome', 'vim', 'oop', 'image', 'hibernate', 'gcc', 'asp.net-mvc-3', 'facebook', 'oracle', 'rest', 'maven', 'http', 'exception', 'tsql', 'math', 'numpy', 'svn', 'qt', 'ipad', 'function', 'datetime', 'wcf', 'emacs', 'design-patterns', 'github', 'class', 'api', 'optimization', 'swing']\n"
     ]
    }
   ],
   "source": [
    "# Choosing top N tags\n",
    "num_tags = 100\n",
    "tags_most_common = tags_frequencies.most_common(num_tags)\n",
    "tags_most_common = [entry[0] for entry in tags_most_common]\n",
    "\n",
    "print(f'The top {len(tags_most_common)} tags are {tags_most_common}')"
   ]
  },
  {
   "cell_type": "code",
   "execution_count": 59,
   "metadata": {},
   "outputs": [],
   "source": [
    "# Function to filter most common tags\n",
    "def filter_tags_by_most_common(tags):\n",
    "    tags_filtered = []\n",
    "    for i in range(0, len(tags)):\n",
    "        if tags[i] in tags_most_common:\n",
    "            tags_filtered.append(tags[i])\n",
    "    return tags_filtered"
   ]
  },
  {
   "cell_type": "code",
   "execution_count": 60,
   "metadata": {},
   "outputs": [],
   "source": [
    "# Apply filter and fill empty cells with None, and finally drop the null rows\n",
    "df['Tags'] = df['Tags'].apply(lambda tags: filter_tags_by_most_common(tags))\n",
    "df['Tags'] = df['Tags'].apply(lambda tags: tags if len(tags)>0 else None)\n",
    "df.dropna(subset=['Tags'], inplace=True)\n"
   ]
  },
  {
   "cell_type": "code",
   "execution_count": 61,
   "metadata": {},
   "outputs": [
    {
     "data": {
      "text/plain": [
       "(63167, 3)"
      ]
     },
     "execution_count": 61,
     "metadata": {},
     "output_type": "execute_result"
    }
   ],
   "source": [
    "df.shape"
   ]
  },
  {
   "cell_type": "code",
   "execution_count": 62,
   "metadata": {},
   "outputs": [],
   "source": [
    "# Remove HTML tags from the test in the Body column\n",
    "df['Body'] = df['Body'].apply(lambda body: BeautifulSoup(body).get_text())"
   ]
  },
  {
   "cell_type": "code",
   "execution_count": 63,
   "metadata": {},
   "outputs": [
    {
     "data": {
      "text/html": [
       "<div>\n",
       "<style scoped>\n",
       "    .dataframe tbody tr th:only-of-type {\n",
       "        vertical-align: middle;\n",
       "    }\n",
       "\n",
       "    .dataframe tbody tr th {\n",
       "        vertical-align: top;\n",
       "    }\n",
       "\n",
       "    .dataframe thead th {\n",
       "        text-align: right;\n",
       "    }\n",
       "</style>\n",
       "<table border=\"1\" class=\"dataframe\">\n",
       "  <thead>\n",
       "    <tr style=\"text-align: right;\">\n",
       "      <th></th>\n",
       "      <th>Title</th>\n",
       "      <th>Body</th>\n",
       "      <th>Tags</th>\n",
       "    </tr>\n",
       "  </thead>\n",
       "  <tbody>\n",
       "    <tr>\n",
       "      <th>1</th>\n",
       "      <td>Good branching and merging tutorials for Torto...</td>\n",
       "      <td>Are there any really good tutorials explaining...</td>\n",
       "      <td>[svn]</td>\n",
       "    </tr>\n",
       "    <tr>\n",
       "      <th>2</th>\n",
       "      <td>ASP.NET Site Maps</td>\n",
       "      <td>Has anyone got experience creating SQL-based A...</td>\n",
       "      <td>[sql, asp.net]</td>\n",
       "    </tr>\n",
       "    <tr>\n",
       "      <th>3</th>\n",
       "      <td>Function for creating color wheels</td>\n",
       "      <td>This is something I've pseudo-solved many time...</td>\n",
       "      <td>[algorithm]</td>\n",
       "    </tr>\n",
       "    <tr>\n",
       "      <th>4</th>\n",
       "      <td>Adding scripting functionality to .NET applica...</td>\n",
       "      <td>I have a little game written in C#. It uses a ...</td>\n",
       "      <td>[c#, .net]</td>\n",
       "    </tr>\n",
       "    <tr>\n",
       "      <th>5</th>\n",
       "      <td>Should I use nested classes in this case?</td>\n",
       "      <td>I am working on a collection of classes used f...</td>\n",
       "      <td>[c++, oop, class]</td>\n",
       "    </tr>\n",
       "  </tbody>\n",
       "</table>\n",
       "</div>"
      ],
      "text/plain": [
       "                                               Title  \\\n",
       "1  Good branching and merging tutorials for Torto...   \n",
       "2                                  ASP.NET Site Maps   \n",
       "3                 Function for creating color wheels   \n",
       "4  Adding scripting functionality to .NET applica...   \n",
       "5          Should I use nested classes in this case?   \n",
       "\n",
       "                                                Body               Tags  \n",
       "1  Are there any really good tutorials explaining...              [svn]  \n",
       "2  Has anyone got experience creating SQL-based A...     [sql, asp.net]  \n",
       "3  This is something I've pseudo-solved many time...        [algorithm]  \n",
       "4  I have a little game written in C#. It uses a ...         [c#, .net]  \n",
       "5  I am working on a collection of classes used f...  [c++, oop, class]  "
      ]
     },
     "execution_count": 63,
     "metadata": {},
     "output_type": "execute_result"
    }
   ],
   "source": [
    "df.head()"
   ]
  },
  {
   "cell_type": "code",
   "execution_count": 64,
   "metadata": {},
   "outputs": [],
   "source": [
    "# Save the cleaned data\n",
    "df.to_csv('Output/TaggedQuestions.csv')"
   ]
  },
  {
   "cell_type": "markdown",
   "metadata": {},
   "source": [
    "# Preprocessing"
   ]
  },
  {
   "cell_type": "code",
   "execution_count": 65,
   "metadata": {},
   "outputs": [],
   "source": [
    "# Takes a list of tokens, and lemmatizes them. Optionally, POS tagging can be enabled\n",
    "def lemmatize_tokens(tokens, use_POS: bool = False):\n",
    "    lemmatizer = WordNetLemmatizer()\n",
    "    lemmatized_tokens = []\n",
    "    \n",
    "    if use_POS:\n",
    "        # Tag the tokens using POS and lemmatize accordingly\n",
    "        tagged_tokens = pos_tag(tokens)\n",
    "        for token, pos in tagged_tokens:\n",
    "            if pos.startswith('NN'):  # Noun\n",
    "                lemmatized_token = lemmatizer.lemmatize(token, pos='n')\n",
    "            elif pos.startswith('VB'):  # Verb\n",
    "                lemmatized_token = lemmatizer.lemmatize(token, pos='v')\n",
    "            elif pos.startswith('JJ'):  # Adjective\n",
    "                lemmatized_token = lemmatizer.lemmatize(token, pos='a')\n",
    "            elif pos.startswith('RB'):  # Adverb\n",
    "                lemmatized_token = lemmatizer.lemmatize(token, pos='r')\n",
    "            else: # Default lemmatization\n",
    "                lemmatized_token = lemmatizer.lemmatize(token)\n",
    "                \n",
    "            lemmatized_tokens.append(lemmatized_token)\n",
    "    else:\n",
    "        # Lemmatize without POS tagging\n",
    "        lemmatized_tokens = [lemmatizer.lemmatize(token) for token in tokens]\n",
    "    \n",
    "    return lemmatized_tokens"
   ]
  },
  {
   "cell_type": "code",
   "execution_count": 66,
   "metadata": {},
   "outputs": [],
   "source": [
    "# Performs an NLP pipeline on text input, it removes punctuation and stopwords, tokenizes the text, then lemmatizes it with options for POS tagging and using n_grams\n",
    "def preprocess_text(text, num_grams=1, use_POS = False):\n",
    "        # Remove punctuation\n",
    "        text = text.translate(str.maketrans('', '', string.punctuation))\n",
    "\n",
    "        # Tokenize text and transform to lower cass\n",
    "        tokens = word_tokenize(text.lower())\n",
    "        \n",
    "        # Prepare stop words\n",
    "        stop_words = set(stopwords.words('english'))\n",
    "        \n",
    "        # Remove stop words\n",
    "        filtered_tokens = [token for token in tokens if token not in stop_words]\n",
    "\n",
    "        # Lemmatize/stem\n",
    "        lemmatized_tokens = lemmatize_tokens(filtered_tokens, use_POS= use_POS)\n",
    "\n",
    "        # Generate n-grams\n",
    "        if num_grams > 1:\n",
    "            n_grams = list(ngrams(lemmatized_tokens, num_grams))\n",
    "            # Rejoin n-grams into a string (each n-gram is joined by a space and then all n-grams are joined into one string)\n",
    "            return ' '.join([' '.join(gram) for gram in n_grams])\n",
    "        else:\n",
    "            # Rejoin tokens into a string for unigrams\n",
    "            return ' '.join(lemmatized_tokens)"
   ]
  },
  {
   "cell_type": "code",
   "execution_count": 67,
   "metadata": {},
   "outputs": [
    {
     "name": "stderr",
     "output_type": "stream",
     "text": [
      "[nltk_data] Downloading package averaged_perceptron_tagger to\n",
      "[nltk_data]     C:\\Users\\MenaA\\AppData\\Roaming\\nltk_data...\n",
      "[nltk_data]   Package averaged_perceptron_tagger is already up-to-\n",
      "[nltk_data]       date!\n",
      "[nltk_data] Downloading package stopwords to\n",
      "[nltk_data]     C:\\Users\\MenaA\\AppData\\Roaming\\nltk_data...\n",
      "[nltk_data]   Package stopwords is already up-to-date!\n"
     ]
    },
    {
     "data": {
      "text/plain": [
       "True"
      ]
     },
     "execution_count": 67,
     "metadata": {},
     "output_type": "execute_result"
    }
   ],
   "source": [
    "import nltk\n",
    "nltk.download('averaged_perceptron_tagger')\n",
    "nltk.download('stopwords')"
   ]
  },
  {
   "cell_type": "code",
   "execution_count": 68,
   "metadata": {},
   "outputs": [],
   "source": [
    "# Preprocess the Title and Body of the questions using the NLP pipeline defined above\n",
    "df['Body'] = df['Body'].apply(lambda text: preprocess_text(text, num_grams= 1, use_POS= True))\n",
    "df['Title'] = df['Title'].apply(lambda text: preprocess_text(text, num_grams= 1, use_POS= True))"
   ]
  },
  {
   "cell_type": "code",
   "execution_count": 69,
   "metadata": {},
   "outputs": [
    {
     "data": {
      "text/html": [
       "<div>\n",
       "<style scoped>\n",
       "    .dataframe tbody tr th:only-of-type {\n",
       "        vertical-align: middle;\n",
       "    }\n",
       "\n",
       "    .dataframe tbody tr th {\n",
       "        vertical-align: top;\n",
       "    }\n",
       "\n",
       "    .dataframe thead th {\n",
       "        text-align: right;\n",
       "    }\n",
       "</style>\n",
       "<table border=\"1\" class=\"dataframe\">\n",
       "  <thead>\n",
       "    <tr style=\"text-align: right;\">\n",
       "      <th></th>\n",
       "      <th>Title</th>\n",
       "      <th>Body</th>\n",
       "      <th>Tags</th>\n",
       "    </tr>\n",
       "  </thead>\n",
       "  <tbody>\n",
       "    <tr>\n",
       "      <th>269756</th>\n",
       "      <td>leave unreachable break case throw exception</td>\n",
       "      <td>silly leave unreachable break statement case t...</td>\n",
       "      <td>[c#, exception]</td>\n",
       "    </tr>\n",
       "    <tr>\n",
       "      <th>214815</th>\n",
       "      <td>access model attribute scriptlet</td>\n",
       "      <td>using spring mvc controller setting standard m...</td>\n",
       "      <td>[html]</td>\n",
       "    </tr>\n",
       "    <tr>\n",
       "      <th>26239</th>\n",
       "      <td>python automatically initialize instance variable</td>\n",
       "      <td>python class look like class process def inits...</td>\n",
       "      <td>[python, class]</td>\n",
       "    </tr>\n",
       "    <tr>\n",
       "      <th>248464</th>\n",
       "      <td>gem install pg withpgconfig work bundle fails</td>\n",
       "      <td>wheni run root gem install pg v 0120 withpgcon...</td>\n",
       "      <td>[postgresql]</td>\n",
       "    </tr>\n",
       "    <tr>\n",
       "      <th>582506</th>\n",
       "      <td>removing index column panda</td>\n",
       "      <td>following code import csv file 3 column want s...</td>\n",
       "      <td>[python]</td>\n",
       "    </tr>\n",
       "  </tbody>\n",
       "</table>\n",
       "</div>"
      ],
      "text/plain": [
       "                                                    Title  \\\n",
       "269756       leave unreachable break case throw exception   \n",
       "214815                   access model attribute scriptlet   \n",
       "26239   python automatically initialize instance variable   \n",
       "248464      gem install pg withpgconfig work bundle fails   \n",
       "582506                        removing index column panda   \n",
       "\n",
       "                                                     Body             Tags  \n",
       "269756  silly leave unreachable break statement case t...  [c#, exception]  \n",
       "214815  using spring mvc controller setting standard m...           [html]  \n",
       "26239   python class look like class process def inits...  [python, class]  \n",
       "248464  wheni run root gem install pg v 0120 withpgcon...     [postgresql]  \n",
       "582506  following code import csv file 3 column want s...         [python]  "
      ]
     },
     "execution_count": 69,
     "metadata": {},
     "output_type": "execute_result"
    }
   ],
   "source": [
    "df.sample(5)"
   ]
  },
  {
   "cell_type": "code",
   "execution_count": 70,
   "metadata": {},
   "outputs": [],
   "source": [
    "df.to_csv('Output/Preprocessed.csv')"
   ]
  },
  {
   "cell_type": "code",
   "execution_count": 2,
   "metadata": {},
   "outputs": [],
   "source": [
    "import ast\n",
    "\n",
    "# Load the CSV\n",
    "df = pd.read_csv('Output/TaggedQuestions.csv')\n",
    "\n",
    "# Ensure Title and Body columns are strings\n",
    "df['Title'] = df['Title'].astype(str)\n",
    "df['Body'] = df['Body'].astype(str)\n",
    "\n",
    "# Convert the Tags column from string representation of list to actual list\n",
    "df['Tags'] = df['Tags'].apply(ast.literal_eval)"
   ]
  },
  {
   "cell_type": "code",
   "execution_count": 3,
   "metadata": {},
   "outputs": [
    {
     "data": {
      "text/plain": [
       "0          [sql, asp.net]\n",
       "1             [algorithm]\n",
       "2              [c#, .net]\n",
       "3              [c++, oop]\n",
       "4    [.net, web-services]\n",
       "Name: Tags, dtype: object"
      ]
     },
     "execution_count": 3,
     "metadata": {},
     "output_type": "execute_result"
    }
   ],
   "source": [
    "# Make sure tags are viewed as lists of strings\n",
    "df['Tags'].head()"
   ]
  },
  {
   "cell_type": "code",
   "execution_count": 4,
   "metadata": {},
   "outputs": [],
   "source": [
    "# Extracting features and target variable\n",
    "X = df[['Title', 'Body']]\n",
    "y = df['Tags']"
   ]
  },
  {
   "cell_type": "code",
   "execution_count": 5,
   "metadata": {},
   "outputs": [
    {
     "data": {
      "text/plain": [
       "(264636, 2)"
      ]
     },
     "execution_count": 5,
     "metadata": {},
     "output_type": "execute_result"
    }
   ],
   "source": [
    "X.shape"
   ]
  },
  {
   "cell_type": "markdown",
   "metadata": {},
   "source": [
    "# Splitting the data"
   ]
  },
  {
   "cell_type": "code",
   "execution_count": 6,
   "metadata": {},
   "outputs": [],
   "source": [
    "# Train/test split, test has 10000 samples\n",
    "X_train, X_test, y_train, y_test = train_test_split(X, y, test_size = 10000, random_state = 42)\n",
    "\n",
    "# Further splitting the training set into train/dev sets with 10000 samples in dev\n",
    "X_train, X_dev, y_train, y_dev = train_test_split(X_train, y_train, test_size = 10000, random_state = 42)"
   ]
  },
  {
   "cell_type": "code",
   "execution_count": 7,
   "metadata": {},
   "outputs": [
    {
     "name": "stdout",
     "output_type": "stream",
     "text": [
      "Shape of X_train: (244636, 2)\n",
      "Shape of X_dev: (10000, 2)\n",
      "Shape of X_test: (10000, 2)\n"
     ]
    }
   ],
   "source": [
    "print(f'Shape of X_train: {X_train.shape}')\n",
    "print(f'Shape of X_dev: {X_dev.shape}')\n",
    "print(f'Shape of X_test: {X_test.shape}')"
   ]
  },
  {
   "cell_type": "markdown",
   "metadata": {},
   "source": [
    "# Feature Representation"
   ]
  },
  {
   "cell_type": "code",
   "execution_count": 8,
   "metadata": {},
   "outputs": [],
   "source": [
    "# Function that puts labels of tags in a binary format\n",
    "def binarize_labels(labels,  is_test=False):\n",
    "    if is_test:\n",
    "        # Load the binarizer used during training and transform labels using it\n",
    "        multilabel_binarizer : MultiLabelBinarizer = load(\"Output/multilabel_binarizer.joblib\")\n",
    "        labels = multilabel_binarizer.transform(labels)\n",
    "    else:\n",
    "        # Tokenization\n",
    "        multilabel_binarizer = MultiLabelBinarizer()\n",
    "        labels = multilabel_binarizer.fit_transform(labels)\n",
    "        dump(multilabel_binarizer, \"Output/multilabel_binarizer.joblib\")\n",
    "\n",
    "    return labels\n"
   ]
  },
  {
   "cell_type": "code",
   "execution_count": 9,
   "metadata": {},
   "outputs": [
    {
     "name": "stdout",
     "output_type": "stream",
     "text": [
      "y_train shape before binarization: (244636,)\n",
      "y_train sample before binarization: ['java']\n"
     ]
    }
   ],
   "source": [
    "\n",
    "print(f'y_train shape before binarization: {y_train.shape}')\n",
    "print(f'y_train sample before binarization: {y_train.iloc[0]}')\n"
   ]
  },
  {
   "cell_type": "code",
   "execution_count": 10,
   "metadata": {},
   "outputs": [],
   "source": [
    "# Binarizing\n",
    "y_train = binarize_labels(y_train)\n",
    "y_dev = binarize_labels(y_dev, is_test=True)\n",
    "y_test = binarize_labels(y_test, is_test=True)"
   ]
  },
  {
   "cell_type": "code",
   "execution_count": 11,
   "metadata": {},
   "outputs": [
    {
     "name": "stdout",
     "output_type": "stream",
     "text": [
      "y_train shape after binarization: (244636, 100)\n",
      "y_dev shape after binarization: (10000, 100)\n",
      "y_test shape after binarization: (10000, 100)\n",
      "y_train sample after binarization: [0 0 0 0 0 0 0 0 0 0 0 0 0 0 0 0 0 0 0 0 0 0 0 0 0 0 0 0 0 0 0 0 0 0 0 0 0\n",
      " 0 0 0 0 0 1 0 0 0 0 0 0 0 0 0 0 0 0 0 0 0 0 0 0 0 0 0 0 0 0 0 0 0 0 0 0 0\n",
      " 0 0 0 0 0 0 0 0 0 0 0 0 0 0 0 0 0 0 0 0 0 0 0 0 0 0]\n"
     ]
    }
   ],
   "source": [
    "print(f'y_train shape after binarization: {y_train.shape}')\n",
    "print(f'y_dev shape after binarization: {y_dev.shape}')\n",
    "print(f'y_test shape after binarization: {y_test.shape}')\n",
    "print(f'y_train sample after binarization: {y_train[0]}')"
   ]
  },
  {
   "cell_type": "code",
   "execution_count": 12,
   "metadata": {},
   "outputs": [],
   "source": [
    "# Tokenizes text, encodes it and then pads it all to a similar length to prepare for the embedding layer.\n",
    "def prepare_for_embedding(texts, feature_name, max_length=None, is_test=False):\n",
    "    if is_test:\n",
    "        # Load the tokenizer used during training\n",
    "        tokenizer = load(f\"Output/tokenizer_{feature_name}.joblib\")\n",
    "    else:\n",
    "        # Tokenization\n",
    "        tokenizer = Tokenizer()\n",
    "        tokenizer.fit_on_texts(texts)\n",
    "        # Save the tokenizer for later use during testing\n",
    "        dump(tokenizer, f\"Output/tokenizer_{feature_name}.joblib\")\n",
    "\n",
    "    # Integer Encoding\n",
    "    sequences = tokenizer.texts_to_sequences(texts)\n",
    "\n",
    "    # Vocabulary size (+1 for padding token)\n",
    "    vocab_size = len(tokenizer.word_index) + 1\n",
    "\n",
    "    # Padding Sequences\n",
    "    if max_length is None:\n",
    "        max_length = max(len(sequence) for sequence in sequences)\n",
    "    padded_sequences = pad_sequences(sequences, maxlen=max_length, padding='post')\n",
    "\n",
    "    return padded_sequences, vocab_size"
   ]
  },
  {
   "cell_type": "code",
   "execution_count": 13,
   "metadata": {},
   "outputs": [],
   "source": [
    "# Prepare the title for embedding layer\n",
    "X_train_title_embedded, vocab_size_title = prepare_for_embedding(X_train['Title'], 'title')\n",
    "X_dev_title_embedded, _ = prepare_for_embedding(X_dev['Title'], 'title', max_length= X_train_title_embedded.shape[1], is_test= True)\n",
    "X_test_title_embedded, _ = prepare_for_embedding(X_test['Title'], 'title', max_length= X_train_title_embedded.shape[1], is_test= True)"
   ]
  },
  {
   "cell_type": "code",
   "execution_count": 14,
   "metadata": {},
   "outputs": [
    {
     "name": "stdout",
     "output_type": "stream",
     "text": [
      "X_train shape: (244636, 33)\n",
      "X_dev shape: (10000, 33)\n",
      "X_test shape: (10000, 33)\n",
      "vocabulary size is: 53889\n",
      "[  29   22   15   24   91 1429   12 1863  254   60    9  312    0    0\n",
      "    0    0    0    0    0    0    0    0    0    0    0    0    0    0\n",
      "    0    0    0    0    0]\n"
     ]
    }
   ],
   "source": [
    "# Checking the shapes and vocab size\n",
    "print(f'X_train shape: {X_train_title_embedded.shape}')\n",
    "print(f'X_dev shape: {X_dev_title_embedded.shape}')\n",
    "print(f'X_test shape: {X_test_title_embedded.shape}')\n",
    "print(f'vocabulary size is: {vocab_size_title}')\n",
    "\n",
    "# Checking some sample to understand exactly what is happening\n",
    "print(X_train_title_embedded[0])\n",
    "\n",
    "# Every token gets assigned an integer mapping, and then all tokens are mapped, and finally padded with zeroes to unify length to that of max sequence length"
   ]
  },
  {
   "cell_type": "code",
   "execution_count": 15,
   "metadata": {},
   "outputs": [
    {
     "data": {
      "image/png": "[encoded data removed]",
      "text/plain": [
       "<Figure size 640x480 with 1 Axes>"
      ]
     },
     "metadata": {},
     "output_type": "display_data"
    },
    {
     "name": "stdout",
     "output_type": "stream",
     "text": [
      "Max sequence length is: 10725\n",
      "Average sequence length is: 151.80631223532106\n",
      "90th precentile: 292.0\n"
     ]
    }
   ],
   "source": [
    "# Checking body length distribution to determine optimal sequence length for performance and efficiency\n",
    "\n",
    "sequence_lengths = [len(body.split()) for body in X_train['Body'].values]\n",
    "plt.hist(sequence_lengths, bins=100)\n",
    "plt.xlabel('Sequence Length')\n",
    "plt.ylabel('Frequency')\n",
    "plt.show()\n",
    "\n",
    "print(f'Max sequence length is: {max(sequence_lengths)}')\n",
    "print(f'Average sequence length is: {np.mean(sequence_lengths)}')\n",
    "print(f'90th precentile: {np.percentile(sequence_lengths, 90)}') "
   ]
  },
  {
   "cell_type": "code",
   "execution_count": 16,
   "metadata": {},
   "outputs": [],
   "source": [
    "# Clearly some outlier or rare sentences have very long length, but we will choose a lower one that well suits at least 90% of the training data\n",
    "max_sequence_length = 300"
   ]
  },
  {
   "cell_type": "code",
   "execution_count": 17,
   "metadata": {},
   "outputs": [],
   "source": [
    "# Prepare the body for embedding layer\n",
    "X_train_body_embedded, vocab_size_body = prepare_for_embedding(X_train['Body'], 'body', max_length= max_sequence_length)\n",
    "X_dev_body_embedded, _ = prepare_for_embedding(X_dev['Body'], 'body', max_length= X_train_body_embedded.shape[1], is_test= True)\n",
    "X_test_body_embedded, _ = prepare_for_embedding(X_test['Body'], 'body' ,max_length= X_train_body_embedded.shape[1], is_test= True)"
   ]
  },
  {
   "cell_type": "code",
   "execution_count": 18,
   "metadata": {},
   "outputs": [
    {
     "name": "stdout",
     "output_type": "stream",
     "text": [
      "X_train shape: (244636, 300)\n",
      "X_dev shape: (10000, 300)\n",
      "X_test shape: (10000, 300)\n",
      "vocabulary size is: 784197\n",
      "[  5863    421     25  31357    555    249    159    606    606     96\n",
      "     48  31357    606    606    591  31357      8    606    606     48\n",
      "     87    130    195   3540   9735     96   6414     92     27   6414\n",
      "   9735    606   6247     95   2680      6     27   2680     27   4231\n",
      "    606   4509     37  13126  84371    515      1    998    138 269393\n",
      "     92      6  29474     92    421      6    421    606    421    443\n",
      "    230     83     83   1388     48     87 269393   6414     92   2680\n",
      "      6    867    230     37  13126     96     37    169     96    223\n",
      "      1    998    225  13126      6   2170     96     34      1    169\n",
      "     15  13126   5699   1881   3371    169    169  13126   2209   1881\n",
      "   3371    169    252   2802    380     15  13126   1152    563    173\n",
      "     98      4    169      3   1453     15    169     96    944     27\n",
      "    230     99   1881   3371    169    123   1140    437    570    998\n",
      "     92    478     85     12     12   2469    177    606   1508   5273\n",
      "    144     92    478   2573   3371    144     92    478    352   2573\n",
      "    144     92    478   1881   3371   1203 136218    169    144     92\n",
      "    478    144     48     37 136218     37    169    867  12442  11569\n",
      "    230     37   2171 116441  92449  92450  92451 116442     37     76\n",
      "    169   2171  14899   1868  14899   2104   3943     12    609 136219\n",
      "     27    609    884   1868    224     76   3118   2873   4533     12\n",
      "     11     76    252 136219   1868   3817     58     27     37   2233\n",
      " 136219     48    609   2233    609    777    867    230   6145     92\n",
      "    777     27   6145   3540     92     27   2233   3540     92    777\n",
      "     35     85 204068    215   2233     92    254    777     92    421\n",
      "     58     92    777   9313    159     37 269394    609     41   6480\n",
      "   2085     27   6480     14     57      2     11      2     41    252\n",
      "      2     57 116443     41      2     70  20324     57    197 204069\n",
      "     11     39     15     11 116443 116443    211   2085    650    339\n",
      "   2337 116443    178   2085    650    339   1375 116443    108 116443\n",
      "     41      2  20324    225    197 204069     12     58   2085    597]\n"
     ]
    }
   ],
   "source": [
    "# Checking the shapes and vocab size\n",
    "print(f'X_train shape: {X_train_body_embedded.shape}')\n",
    "print(f'X_dev shape: {X_dev_body_embedded.shape}')\n",
    "print(f'X_test shape: {X_test_body_embedded.shape}')\n",
    "print(f'vocabulary size is: {vocab_size_body}')\n",
    "\n",
    "# Checking a sample\n",
    "print(X_train_body_embedded[0])"
   ]
  },
  {
   "cell_type": "markdown",
   "metadata": {},
   "source": [
    "# Model training and evaluation"
   ]
  },
  {
   "cell_type": "code",
   "execution_count": 19,
   "metadata": {},
   "outputs": [],
   "source": [
    "# Transformer block\n",
    "def transformer_block(inputs, num_heads, key_dim, ff_dim, dropout_rate=0.2):\n",
    "    # Multi-head Self Attention\n",
    "    attention_output = MultiHeadAttention(num_heads=num_heads, key_dim=key_dim)(inputs, inputs)\n",
    "    attention_output = Dropout(dropout_rate)(attention_output)\n",
    "    attention_output = LayerNormalization(epsilon=1e-6)(attention_output + inputs)\n",
    "    \n",
    "    # Feed Forward Network\n",
    "    ffn_output = Dense(ff_dim, activation='relu')(attention_output)\n",
    "    ffn_output = Dense(inputs.shape[-1])(ffn_output)\n",
    "    ffn_output = Dropout(dropout_rate)(ffn_output)\n",
    "    ffn_output = LayerNormalization(epsilon=1e-6)(ffn_output + attention_output)\n",
    "    \n",
    "    return ffn_output"
   ]
  },
  {
   "cell_type": "code",
   "execution_count": 20,
   "metadata": {},
   "outputs": [],
   "source": [
    "# Model Parameters\n",
    "embedding_dim = 96   # Embedding dimension size\n",
    "num_heads = 4        # Number of attention heads\n",
    "key_dim = 32         # Dimensionality of each attention head for query and key\n",
    "ff_dim = 128         # Hidden layer size in feed forward network\n",
    "dropout_rate = 0.2   # Dropout rate\n",
    "\n",
    "# Embedding input for the title\n",
    "title_input = Input(shape=(X_train_title_embedded.shape[1],), name='title_input')\n",
    "title_embedding = Embedding(input_dim=vocab_size_title, output_dim=embedding_dim)(title_input)\n",
    "\n",
    "# Add Positional Encoding for the title\n",
    "positional_encoding_title = SinePositionEncoding()(title_embedding)\n",
    "title_embedding = title_embedding + positional_encoding_title\n",
    "\n",
    "# Add Transformer block to the title input\n",
    "title_transformer = transformer_block(title_embedding, num_heads, key_dim, ff_dim, dropout_rate)\n",
    "title_pooling = GlobalAveragePooling1D()(title_transformer)\n",
    "\n",
    "# Embedding input for the body\n",
    "body_input = Input(shape=(X_train_body_embedded.shape[1],), name='body_input')\n",
    "body_embedding = Embedding(input_dim=vocab_size_body, output_dim=embedding_dim)(body_input)\n",
    "\n",
    "# Add Positional Encoding for the body\n",
    "positional_encoding_body = SinePositionEncoding()(body_embedding)\n",
    "body_embedding = body_embedding + positional_encoding_body\n",
    "\n",
    "# Add Transformer block to the body input\n",
    "body_transformer = transformer_block(body_embedding, num_heads, key_dim, ff_dim, dropout_rate)\n",
    "body_pooling = GlobalAveragePooling1D()(body_transformer)\n",
    "\n",
    "# Concatenation layer\n",
    "combined = Concatenate()([title_pooling, body_pooling])\n",
    "\n",
    "# Fully connected layers\n",
    "fc_1 = Dense(128, activation='relu')(combined)\n",
    "fc_1 = Dropout(dropout_rate)(fc_1)\n",
    "fc_2 = Dense(64, activation='relu')(fc_1)\n",
    "fc_2 = Dropout(dropout_rate)(fc_2)\n",
    "\n",
    "# Output layer\n",
    "output = Dense(y_train.shape[1], activation='sigmoid', name='output')(fc_2)\n",
    "\n",
    "# Model definition\n",
    "model = Model(inputs=[title_input, body_input], outputs=[output])\n",
    "\n",
    "# Compile the model\n",
    "model.compile(optimizer='adam', loss='binary_crossentropy', metrics=['accuracy'])"
   ]
  },
  {
   "cell_type": "code",
   "execution_count": 21,
   "metadata": {},
   "outputs": [
    {
     "name": "stdout",
     "output_type": "stream",
     "text": [
      "Model: \"model\"\n",
      "__________________________________________________________________________________________________\n",
      " Layer (type)                   Output Shape         Param #     Connected to                     \n",
      "==================================================================================================\n",
      " title_input (InputLayer)       [(None, 33)]         0           []                               \n",
      "                                                                                                  \n",
      " body_input (InputLayer)        [(None, 300)]        0           []                               \n",
      "                                                                                                  \n",
      " embedding (Embedding)          (None, 33, 96)       5173344     ['title_input[0][0]']            \n",
      "                                                                                                  \n",
      " embedding_1 (Embedding)        (None, 300, 96)      75282912    ['body_input[0][0]']             \n",
      "                                                                                                  \n",
      " sine_position_encoding (SinePo  (None, 33, 96)      0           ['embedding[0][0]']              \n",
      " sitionEncoding)                                                                                  \n",
      "                                                                                                  \n",
      " sine_position_encoding_1 (Sine  (None, 300, 96)     0           ['embedding_1[0][0]']            \n",
      " PositionEncoding)                                                                                \n",
      "                                                                                                  \n",
      " tf.__operators__.add (TFOpLamb  (None, 33, 96)      0           ['embedding[0][0]',              \n",
      " da)                                                              'sine_position_encoding[0][0]'] \n",
      "                                                                                                  \n",
      " tf.__operators__.add_3 (TFOpLa  (None, 300, 96)     0           ['embedding_1[0][0]',            \n",
      " mbda)                                                            'sine_position_encoding_1[0][0]'\n",
      "                                                                 ]                                \n",
      "                                                                                                  \n",
      " multi_head_attention (MultiHea  (None, 33, 96)      49632       ['tf.__operators__.add[0][0]',   \n",
      " dAttention)                                                      'tf.__operators__.add[0][0]']   \n",
      "                                                                                                  \n",
      " multi_head_attention_1 (MultiH  (None, 300, 96)     49632       ['tf.__operators__.add_3[0][0]', \n",
      " eadAttention)                                                    'tf.__operators__.add_3[0][0]'] \n",
      "                                                                                                  \n",
      " dropout (Dropout)              (None, 33, 96)       0           ['multi_head_attention[0][0]']   \n",
      "                                                                                                  \n",
      " dropout_2 (Dropout)            (None, 300, 96)      0           ['multi_head_attention_1[0][0]'] \n",
      "                                                                                                  \n",
      " tf.__operators__.add_1 (TFOpLa  (None, 33, 96)      0           ['dropout[0][0]',                \n",
      " mbda)                                                            'tf.__operators__.add[0][0]']   \n",
      "                                                                                                  \n",
      " tf.__operators__.add_4 (TFOpLa  (None, 300, 96)     0           ['dropout_2[0][0]',              \n",
      " mbda)                                                            'tf.__operators__.add_3[0][0]'] \n",
      "                                                                                                  \n",
      " layer_normalization (LayerNorm  (None, 33, 96)      192         ['tf.__operators__.add_1[0][0]'] \n",
      " alization)                                                                                       \n",
      "                                                                                                  \n",
      " layer_normalization_2 (LayerNo  (None, 300, 96)     192         ['tf.__operators__.add_4[0][0]'] \n",
      " rmalization)                                                                                     \n",
      "                                                                                                  \n",
      " dense (Dense)                  (None, 33, 128)      12416       ['layer_normalization[0][0]']    \n",
      "                                                                                                  \n",
      " dense_2 (Dense)                (None, 300, 128)     12416       ['layer_normalization_2[0][0]']  \n",
      "                                                                                                  \n",
      " dense_1 (Dense)                (None, 33, 96)       12384       ['dense[0][0]']                  \n",
      "                                                                                                  \n",
      " dense_3 (Dense)                (None, 300, 96)      12384       ['dense_2[0][0]']                \n",
      "                                                                                                  \n",
      " dropout_1 (Dropout)            (None, 33, 96)       0           ['dense_1[0][0]']                \n",
      "                                                                                                  \n",
      " dropout_3 (Dropout)            (None, 300, 96)      0           ['dense_3[0][0]']                \n",
      "                                                                                                  \n",
      " tf.__operators__.add_2 (TFOpLa  (None, 33, 96)      0           ['dropout_1[0][0]',              \n",
      " mbda)                                                            'layer_normalization[0][0]']    \n",
      "                                                                                                  \n",
      " tf.__operators__.add_5 (TFOpLa  (None, 300, 96)     0           ['dropout_3[0][0]',              \n",
      " mbda)                                                            'layer_normalization_2[0][0]']  \n",
      "                                                                                                  \n",
      " layer_normalization_1 (LayerNo  (None, 33, 96)      192         ['tf.__operators__.add_2[0][0]'] \n",
      " rmalization)                                                                                     \n",
      "                                                                                                  \n",
      " layer_normalization_3 (LayerNo  (None, 300, 96)     192         ['tf.__operators__.add_5[0][0]'] \n",
      " rmalization)                                                                                     \n",
      "                                                                                                  \n",
      " global_average_pooling1d (Glob  (None, 96)          0           ['layer_normalization_1[0][0]']  \n",
      " alAveragePooling1D)                                                                              \n",
      "                                                                                                  \n",
      " global_average_pooling1d_1 (Gl  (None, 96)          0           ['layer_normalization_3[0][0]']  \n",
      " obalAveragePooling1D)                                                                            \n",
      "                                                                                                  \n",
      " concatenate (Concatenate)      (None, 192)          0           ['global_average_pooling1d[0][0]'\n",
      "                                                                 , 'global_average_pooling1d_1[0][\n",
      "                                                                 0]']                             \n",
      "                                                                                                  \n",
      " dense_4 (Dense)                (None, 128)          24704       ['concatenate[0][0]']            \n",
      "                                                                                                  \n",
      " dropout_4 (Dropout)            (None, 128)          0           ['dense_4[0][0]']                \n",
      "                                                                                                  \n",
      " dense_5 (Dense)                (None, 64)           8256        ['dropout_4[0][0]']              \n",
      "                                                                                                  \n",
      " dropout_5 (Dropout)            (None, 64)           0           ['dense_5[0][0]']                \n",
      "                                                                                                  \n",
      " output (Dense)                 (None, 100)          6500        ['dropout_5[0][0]']              \n",
      "                                                                                                  \n",
      "==================================================================================================\n",
      "Total params: 80,645,348\n",
      "Trainable params: 80,645,348\n",
      "Non-trainable params: 0\n",
      "__________________________________________________________________________________________________\n"
     ]
    }
   ],
   "source": [
    "model.summary()"
   ]
  },
  {
   "cell_type": "code",
   "execution_count": 22,
   "metadata": {},
   "outputs": [],
   "source": [
    "# Define the checkpoint to save the model with the best validation accuracy\n",
    "checkpoint = ModelCheckpoint(\n",
    "    'Output/best_model.h5',   \n",
    "    monitor='val_accuracy',\n",
    "    verbose=1,         \n",
    "    save_best_only=True,\n",
    "    mode='max'          \n",
    ")"
   ]
  },
  {
   "cell_type": "code",
   "execution_count": 23,
   "metadata": {},
   "outputs": [],
   "source": [
    "# Define early stopping to stop training when validation loss stops improving\n",
    "early_stopping = EarlyStopping(\n",
    "    monitor='val_loss', \n",
    "    patience=3,         \n",
    "    verbose=1,          \n",
    "    restore_best_weights=True\n",
    ")"
   ]
  },
  {
   "cell_type": "code",
   "execution_count": 24,
   "metadata": {},
   "outputs": [
    {
     "name": "stdout",
     "output_type": "stream",
     "text": [
      "Epoch 1/20\n",
      "956/956 [==============================] - ETA: 0s - loss: 0.0858 - accuracy: 0.1022\n",
      "Epoch 1: val_accuracy improved from -inf to 0.30160, saving model to Output\\best_model.h5\n",
      "956/956 [==============================] - 129s 132ms/step - loss: 0.0858 - accuracy: 0.1022 - val_loss: 0.0577 - val_accuracy: 0.3016\n",
      "Epoch 2/20\n",
      "956/956 [==============================] - ETA: 0s - loss: 0.0450 - accuracy: 0.4670\n",
      "Epoch 2: val_accuracy improved from 0.30160 to 0.56890, saving model to Output\\best_model.h5\n",
      "956/956 [==============================] - 136s 143ms/step - loss: 0.0450 - accuracy: 0.4670 - val_loss: 0.0342 - val_accuracy: 0.5689\n",
      "Epoch 3/20\n",
      "956/956 [==============================] - ETA: 0s - loss: 0.0335 - accuracy: 0.5782\n",
      "Epoch 3: val_accuracy improved from 0.56890 to 0.60540, saving model to Output\\best_model.h5\n",
      "956/956 [==============================] - 126s 132ms/step - loss: 0.0335 - accuracy: 0.5782 - val_loss: 0.0298 - val_accuracy: 0.6054\n",
      "Epoch 4/20\n",
      "956/956 [==============================] - ETA: 0s - loss: 0.0294 - accuracy: 0.6091\n",
      "Epoch 4: val_accuracy improved from 0.60540 to 0.60720, saving model to Output\\best_model.h5\n",
      "956/956 [==============================] - 126s 132ms/step - loss: 0.0294 - accuracy: 0.6091 - val_loss: 0.0285 - val_accuracy: 0.6072\n",
      "Epoch 5/20\n",
      "956/956 [==============================] - ETA: 0s - loss: 0.0268 - accuracy: 0.6296\n",
      "Epoch 5: val_accuracy improved from 0.60720 to 0.61160, saving model to Output\\best_model.h5\n",
      "956/956 [==============================] - 147s 154ms/step - loss: 0.0268 - accuracy: 0.6296 - val_loss: 0.0287 - val_accuracy: 0.6116\n",
      "Epoch 6/20\n",
      "956/956 [==============================] - ETA: 0s - loss: 0.0246 - accuracy: 0.6463\n",
      "Epoch 6: val_accuracy did not improve from 0.61160\n",
      "956/956 [==============================] - 124s 129ms/step - loss: 0.0246 - accuracy: 0.6463 - val_loss: 0.0286 - val_accuracy: 0.6033\n",
      "Epoch 7/20\n",
      "956/956 [==============================] - ETA: 0s - loss: 0.0227 - accuracy: 0.6593\n",
      "Epoch 7: val_accuracy did not improve from 0.61160\n",
      "Restoring model weights from the end of the best epoch: 4.\n",
      "956/956 [==============================] - 124s 130ms/step - loss: 0.0227 - accuracy: 0.6593 - val_loss: 0.0297 - val_accuracy: 0.6051\n",
      "Epoch 7: early stopping\n"
     ]
    }
   ],
   "source": [
    "# Train the model\n",
    "history = model.fit(\n",
    "    [X_train_title_embedded, X_train_body_embedded], y_train,\n",
    "    validation_data=([X_dev_title_embedded, X_dev_body_embedded], y_dev),\n",
    "    epochs=20,\n",
    "    batch_size=256,\n",
    "    callbacks=[checkpoint, early_stopping] \n",
    ")"
   ]
  },
  {
   "cell_type": "code",
   "execution_count": 25,
   "metadata": {},
   "outputs": [],
   "source": [
    "# Visualize the learning curves (Loss and Accuracy)\n",
    "def plot_learning_curves(history):\n",
    "    # Plot training & validation loss values\n",
    "    plt.figure(figsize=(12, 4))\n",
    "    plt.subplot(1, 2, 1)\n",
    "    plt.plot(history.history['loss'])\n",
    "    plt.plot(history.history['val_loss'])\n",
    "    plt.title('Model Loss')\n",
    "    plt.ylabel('Loss')\n",
    "    plt.xlabel('Epoch')\n",
    "    plt.legend(['Train', 'Validation'], loc='upper right')\n",
    "\n",
    "    # Plot training & validation accuracy values\n",
    "    plt.subplot(1, 2, 2)\n",
    "    plt.plot(history.history['accuracy'])\n",
    "    plt.plot(history.history['val_accuracy'])\n",
    "    plt.title('Model Accuracy')\n",
    "    plt.ylabel('Accuracy')\n",
    "    plt.xlabel('Epoch')\n",
    "    plt.legend(['Train', 'Validation'], loc='upper right')\n",
    "\n",
    "    plt.show()"
   ]
  },
  {
   "cell_type": "code",
   "execution_count": 26,
   "metadata": {},
   "outputs": [
    {
     "data": {
      "image/png": "[encoded data removed]",
      "text/plain": [
       "<Figure size 1200x400 with 2 Axes>"
      ]
     },
     "metadata": {},
     "output_type": "display_data"
    }
   ],
   "source": [
    "# Call the function to plot the learning curves\n",
    "plot_learning_curves(history)"
   ]
  },
  {
   "cell_type": "markdown",
   "metadata": {},
   "source": [
    "# Model Evaluation on unseen data"
   ]
  },
  {
   "cell_type": "code",
   "execution_count": 29,
   "metadata": {},
   "outputs": [],
   "source": [
    "# Load the best model (with the best weights)\n",
    "best_model = load_model('Output/best_model.h5')"
   ]
  },
  {
   "cell_type": "code",
   "execution_count": 33,
   "metadata": {},
   "outputs": [
    {
     "name": "stdout",
     "output_type": "stream",
     "text": [
      "313/313 [==============================] - 4s 11ms/step - loss: 0.0280 - accuracy: 0.6148\n",
      "Accuracy on unseen test set: 61.48%\n",
      "Loss on unseen test set: 0.0280\n"
     ]
    }
   ],
   "source": [
    "# Evaluate the model on the test set for accuracy and loss\n",
    "loss, accuracy = best_model.evaluate([X_test_title_embedded, X_test_body_embedded], y_test)\n",
    "print(f\"Accuracy on unseen test set: {accuracy * 100:.2f}%\")\n",
    "print(f\"Loss on unseen test set: {loss:.4f}\")"
   ]
  },
  {
   "cell_type": "code",
   "execution_count": 46,
   "metadata": {},
   "outputs": [
    {
     "name": "stdout",
     "output_type": "stream",
     "text": [
      "313/313 [==============================] - 3s 9ms/step\n"
     ]
    }
   ],
   "source": [
    "# Predict on the test set\n",
    "y_pred = best_model.predict([X_test_title_embedded, X_test_body_embedded])\n",
    "\n",
    "# Threshold the predictions to get binary results\n",
    "y_pred = (y_pred > 0.5).astype(int)\n",
    "\n",
    "# Post-processing predictions to ensure at least one label is predicted per sample\n",
    "for i in range(y_pred.shape[0]):\n",
    "    if y_pred[i].sum() == 0:\n",
    "        # Set the label with the highest probability as 1 if no label is predicted\n",
    "        y_pred[i, np.argmax(y_pred[i])] = 1"
   ]
  },
  {
   "cell_type": "code",
   "execution_count": 47,
   "metadata": {},
   "outputs": [
    {
     "name": "stdout",
     "output_type": "stream",
     "text": [
      "Precision: 0.7675\n",
      "Recall: 0.6741\n",
      "F1 Score: 0.6881\n"
     ]
    }
   ],
   "source": [
    "# Precision, Recall, and F1 Score\n",
    "precision = precision_score(y_test, y_pred, average='samples')\n",
    "recall = recall_score(y_test, y_pred, average='samples')\n",
    "f1 = f1_score(y_test, y_pred, average='samples')\n",
    "\n",
    "print(f\"Precision: {precision:.4f}\")\n",
    "print(f\"Recall: {recall:.4f}\")\n",
    "print(f\"F1 Score: {f1:.4f}\")\n"
   ]
  },
  {
   "cell_type": "code",
   "execution_count": 48,
   "metadata": {},
   "outputs": [
    {
     "name": "stdout",
     "output_type": "stream",
     "text": [
      "Jaccard Score: 62.40%\n"
     ]
    }
   ],
   "source": [
    "# Jaccard Score can be useful in evaluating multi label classification models, because it measures the similarity between predictions and actual values. \n",
    "# It takes into consideration how close the model got to predict most of the tags, rather than just evaluating whether it got them all right or not (which is what the accuracy score does)\n",
    "jaccard = jaccard_score(y_test, y_pred, average='samples')\n",
    "print(f\"Jaccard Score: {jaccard * 100:.2f}%\")"
   ]
  },
  {
   "cell_type": "markdown",
   "metadata": {},
   "source": [
    "### The model seems to perform reasonably well considering that there is 100 tags for it to differentiate among, and also considering the human baseline error for this specific task."
   ]
  },
  {
   "cell_type": "markdown",
   "metadata": {},
   "source": []
  }
 ],
 "metadata": {
  "kernelspec": {
   "display_name": "Mena_Py_3_10",
   "language": "python",
   "name": "python3"
  },
  "language_info": {
   "codemirror_mode": {
    "name": "ipython",
    "version": 3
   },
   "file_extension": ".py",
   "mimetype": "text/x-python",
   "name": "python",
   "nbconvert_exporter": "python",
   "pygments_lexer": "ipython3",
   "version": "3.10.12"
  }
 },
 "nbformat": 4,
 "nbformat_minor": 2
}
